{
  "metadata": {
    "language_info": {
      "codemirror_mode": {
        "name": "python",
        "version": 3
      },
      "file_extension": ".py",
      "mimetype": "text/x-python",
      "name": "python",
      "nbconvert_exporter": "python",
      "pygments_lexer": "ipython3",
      "version": "3.8"
    },
    "kernelspec": {
      "name": "python",
      "display_name": "Python (Pyodide)",
      "language": "python"
    }
  },
  "nbformat_minor": 4,
  "nbformat": 4,
  "cells": [
    {
      "cell_type": "code",
      "source": "Módulo 4-Notas\nMaximiliano Morones Gómez-A01793815",
      "metadata": {},
      "execution_count": null,
      "outputs": []
    },
    {
      "cell_type": "code",
      "source": "Reading Files Python\n\"Reading Text Files\"\nOne way to read or write a file in Python is to use the built-in open function. \nThe open function provides a Fileobject that contains the methods and attributes \nyou need in order to read, save, and manipulate the file.\n\nThe mode argument is optional and the default value is r.\n**r**: Read mode for reading files\n**w**: Write mode for writing files\n\nFor the next example, we will use the text file Example1.txt. The file is shown as follows:\nThis is line 1\nThis is line 2\nThis is line 3\nWe read the file:\n# Read the Example1.txt\nexample1 = \"Example1.txt\"\nfile1 = open(example1, \"r\")\nWe can view the attributes of the file.\n\nName of the file:\n# Print the path of file\nfile1.name\n\nMode the file object is in:\n# Print the mode of file, either 'r' or 'w'\nfile1.mode\n\nWe can read the file and assign it to a variable :\n# Read the file\nFileContent = file1.read()\nFileContent\n\nThe /n means that there is a new line.\nPrint the file:\n# Print the file with '\\n' as a new line\nprint(FileContent)\n\nThe file is of type string:\n# Type of file content\ntype(FileContent)\n\nIs very important that the file is closed in the end.\nThis frees up resources and ensures consistency across different python versions.\n# Close file after finish\nfile1.close()",
      "metadata": {},
      "execution_count": null,
      "outputs": []
    },
    {
      "cell_type": "code",
      "source": "\"A Better Way to Open a File\"\nUsing the with statement, it automatically closes the file even if the code encounters an exception. \nThe code will run everything in the indent block then close the file object.\n\n# Open file using with\nwith open(example1, \"r\") as file1:\n    FileContent = file1.read()\n    print(FileContent)\n\nThe file object is closed, verify it by running the following cell:\n# Verify if the file is closed\nfile1.closed\n\nWe can see the info in the file:\n# See the content of file\n\nprint(FileContent)\n\nThe syntax is a little confusing as the file object is after the as statement.\n\nWe don’t have to read the entire file, we can read the first 4 characters\nby entering three as a parameter to the method .read():\n# Read first four characters\nwith open(example1, \"r\") as file1:\n    print(file1.read(4))\n\nOnce the method .read(4) is called the first 4 characters are called. \nIf we call the method again, the next 4 characters are called. \nThe output for the following cell will demonstrate the process for different inputs to the method read():\n# Read certain amount of characters\nwith open(example1, \"r\") as file1:\n    print(file1.read(4))\n    print(file1.read(4))\n    print(file1.read(7))\n    print(file1.read(15))\n\nExample using the same file, but instead we read 16, 5, and then 9 characters at a time:\n# Read certain amount of characters\nwith open(example1, \"r\") as file1:\n    print(file1.read(16))\n    print(file1.read(5))\n    print(file1.read(9))\n    \nRead one line of the file at a time using the method readline():\n# Read one line\nwith open(example1, \"r\") as file1:\n    print(\"first line: \" + file1.readline())\n\nPass an argument to readline() to specify the number of charecters we want to read. \nHowever, unlike read(), readline() can only read one line at most.\nWith open(example1, \"r\") as file1:\n    print(file1.readline(20)) # does not read past the end of line\n    print(file1.read(20)) # Returns the next 20 chars\n\nWe can use a loop to iterate through each line:\n# Iterate through the lines\nwith open(example1,\"r\") as file1:\n        i = 0;\n        for line in file1:\n            print(\"Iteration\", str(i), \": \", line)\n            i = i + 1\n            \nWe can use the method readlines() to save the text file to a list:\n# Read all lines and save as a list\nwith open(example1, \"r\") as file1:\n    FileasList = file1.readlines()\n    \nEach element of the list corresponds to a line of text:\n# Print the first line\nFileasList[0]",
      "metadata": {},
      "execution_count": null,
      "outputs": []
    },
    {
      "cell_type": "code",
      "source": "\"Print the second line\"\nFileasList[1]\n\n# Print the third line\nFileasList[2]",
      "metadata": {},
      "execution_count": null,
      "outputs": []
    },
    {
      "cell_type": "code",
      "source": "Write and Save Files in Python\n\"Writing Files\"\nWe can open a file object using the method write() to save the text file to a list.\nTo write to a file, the mode argument must be set to w.\n\nWrite a file Example2.txt with the line: “This is line A”\n# Write line to file\nexmp2 = 'Example2.txt'\nwith open(exmp2, 'w') as writefile:\n    writefile.write(\"This is line A\")\n\nRead the file to see if it worked:\n# Read file\nwith open(exmp2, 'r') as testwritefile:\n    print(testwritefile.read())\n\nWrite multiple lines:\n# Write lines to file\nwith open(exmp2, 'w') as writefile:\n    writefile.write(\"This is line A\\n\")\n    writefile.write(\"This is line B\\n\")\n\nThe method .write() works similar to the method .readline(), except instead of reading a new line it writes a new line.\n\n# Check whether write to file\nwith open(exmp2, 'r') as testwritefile:\n    print(testwritefile.read())\n\nWrite a list to a .txt file as follows:\n# Sample list of text\nLines = [\"This is line A\\n\", \"This is line B\\n\", \"This is line C\\n\"]\nLines\n\n# Write the strings in the list to text file\nwith open('Example2.txt', 'w') as writefile:\n    for line in Lines:\n        print(line)\n        writefile.write(line)\n\nVerify the file is written by reading it and printing out the values:\n# Verify if writing to file is successfully executed\nwith open('Example2.txt', 'r') as testwritefile:\n    print(testwritefile.read())\n\nNote that setting the mode to w overwrites all the existing data in the file.\nwith open('Example2.txt', 'w') as writefile:\n    writefile.write(\"Overwrite\\n\")\nwith open('Example2.txt', 'r') as testwritefile:\n    print(testwritefile.read())",
      "metadata": {},
      "execution_count": null,
      "outputs": []
    },
    {
      "cell_type": "code",
      "source": "\"Appending Files\"\nWe can write to files without losing any of the existing data as follows by setting\nthe mode argument to append: a. you can append a new line as follows:\n# Write a new line to text file\nwith open('Example2.txt', 'a') as testwritefile:\n    testwritefile.write(\"This is line C\\n\")\n    testwritefile.write(\"This is line D\\n\")\n    testwritefile.write(\"This is line E\\n\")\n\nVerify the file has changed by running the following cell:\nwith open('Example2.txt', 'r') as testwritefile:\n    print(testwritefile.read())",
      "metadata": {},
      "execution_count": null,
      "outputs": []
    },
    {
      "cell_type": "code",
      "source": "\"Additional modes\"\nIt's fairly ineffecient to open the file in a or w and then reopening it in r to read any lines. Luckily we can access the file in the following modes:\n\nr+ : Reading and writing. Cannot truncate the file.\nw+ : Writing and reading. Truncates the file.\na+ : Appending and Reading. Creates a new file, if none exists.\n\nLet's try out the a+ mode:\nwith open('Example2.txt', 'a+') as testwritefile:\n    testwritefile.write(\"This is line E\\n\")\n    print(testwritefile.read())\n\nThere were no errors but read() also did not output anything. This is because of our location in the file.\n\nMost of the file methods we've looked at work in a certain location in the file. .write()  writes at a certain \nlocation in the file. .read() reads at a certain location in the file and so on. You can think of this as moving \nyour pointer around in the notepad to make changes at specific location.\n\nOpening the file in w is akin to opening the .txt file, moving your cursor to the beginning of the \ntext file, writing new text and deleting everything that follows. Whereas opening the file in a is similiar \nto opening the .txt file, moving your cursor to the very end and then adding the new pieces of text.\n\nIt is often very useful to know where the 'cursor' is in a file and be able to control it. \nThe following methods allow us to do precisely this -\n\n.tell() - returns the current position in bytes\n.seek(offset,from) - changes the position by 'offset' bytes with respect to 'from'. \nFrom can take the value of 0,1,2 corresponding to beginning, relative to current position and end\n\nrevisit a+\nwith open('Example2.txt', 'a+') as testwritefile:\n    print(\"Initial Location: {}\".format(testwritefile.tell()))\n    \n    data = testwritefile.read()\n    if (not data):  #empty strings return false in python\n            print('Read nothing') \n    else: \n            print(testwritefile.read())\n            \n    testwritefile.seek(0,0) # move 0 bytes from beginning.\n    \n    print(\"\\nNew Location : {}\".format(testwritefile.tell()))\n    data = testwritefile.read()\n    if (not data): \n            print('Read nothing') \n    else: \n            print(data)\n    \n    print(\"Location after read: {}\".format(testwritefile.tell()) )\n\nA note on the difference between w+ and r+. Both of these modes allow access to read and write methods, \nhowever, opening a file in w+ overwrites it and deletes all pre-existing data.\nTo work with a file on existing data, use r+ and a+. While using r+, it can be useful to add a .truncate() method \nat the end of your data. This will reduce the file to your data and delete everything that follows.\n\nIn the following code block, Run the code as it is first and then run it with the .truncate().\nwith open('Example2.txt', 'r+') as testwritefile:\n    data = testwritefile.readlines()\n    testwritefile.seek(0,0) #write at beginning of file\n   \n    testwritefile.write(\"Line 1\" + \"\\n\")\n    testwritefile.write(\"Line 2\" + \"\\n\")\n    testwritefile.write(\"Line 3\" + \"\\n\")\n    testwritefile.write(\"finished\\n\")\n    #Uncomment the line below\n    #testwritefile.truncate()\n    testwritefile.seek(0,0)\n    print(testwritefile.read())",
      "metadata": {},
      "execution_count": null,
      "outputs": []
    },
    {
      "cell_type": "code",
      "source": "\"Copy a File\"\n# Copy file to another\nwith open('Example2.txt','r') as readfile:\n    with open('Example3.txt','w') as writefile:\n          for line in readfile:\n                writefile.write(line)\n\nRead the file to see if everything works:\n# Verify if the copy is successfully executed\nwith open('Example3.txt','r') as testwritefile:\n    print(testwritefile.read())\n\nAfter reading files, we can also write data into files and save them in different file \nformats like .txt, .csv, .xls (for excel files) etc. ",
      "metadata": {},
      "execution_count": null,
      "outputs": []
    },
    {
      "cell_type": "code",
      "source": "Introduction to Pandas in Python\n\"Introduction of Pandas\"\n# Dependency needed to install file \n# If running the notebook on your machine, else leave it commented\n# !pip install xlrd\n\nimport piplite\nawait piplite.install(['xlrd','openpyxl'])\n\n# Import required library\nimport pandas as pd\n\nAfter the import command, we now have access to a large number of pre-built classes and functions.\nThis assumes the library is installed; in our lab environment all the necessary libraries are installed.\nGo from a comma separated values (.csv) file to a dataframe. This variable csv_path stores the path of the .csv, that\nis used as an argument to the read_csv function. \nThe result is stored in the object df, this is a common short form used for a variable referring to a Pandas dataframe.\n\n# Read data from CSV file\n# csv_path = 'https://cf-courses-data.s3.us.cloud-object-storage.appdomain.cloud/IBMDeveloperSkillsNetwork-PY0101EN-SkillsNetwork/labs/Module%204/data/TopSellingAlbums.csv'\n# df = pd.read_csv(csv_path)\n\nfrom pyodide.http import pyfetch\nimport pandas as pd\n\nfilename = \"https://cf-courses-data.s3.us.cloud-object-storage.appdomain.cloud/IBMDeveloperSkillsNetwork-PY0101EN-SkillsNetwork/labs/Module%204/data/TopSellingAlbums.csv\"\n\nasync def download(url, filename):\n    response = await pyfetch(url)\n    if response.status == 200:\n        with open(filename, \"wb\") as f:\n            f.write(await response.bytes())\n\n\nawait download(filename, \"TopSellingAlbums.csv\")\ndf = pd.read_csv(\"TopSellingAlbums.csv\")\n\nWe can use the method head() to examine the first five rows of a dataframe:\n# Print first five rows of the dataframe\ndf.head()\n\nWe use the path of the excel file and the function read_excel. The result is a data frame as before:\n# Read data from Excel File and print the first five rows\nxlsx_path = 'https://s3-api.us-geo.objectstorage.softlayer.net/cf-courses-data/CognitiveClass/PY0101EN/Chapter%204/Datasets/TopSellingAlbums.xlsx'\nawait download(xlsx_path, \"TopSellingAlbums.xlsx\")\ndf = pd.read_excel(\"TopSellingAlbums.xlsx\")\ndf.head()\n\nWe can access the column Length and assign it a new dataframe x:\n# Access to the column Length\nx = df[['Length']]\nx",
      "metadata": {},
      "execution_count": null,
      "outputs": []
    },
    {
      "cell_type": "code",
      "source": "\"Viewing Data and Accessing Data\"\nGet a column as a series. \n# Get the column as a series\nx = df['Length']\nx\n\nGet a column as a dataframe.\n# Get the column as a dataframe\nx = df[['Artist']]\ntype(x)\n\nDo the same thing for multiple columns; we just put the dataframe name, in this case, df, and the name of the multiple\ncolumn headers enclosed in double brackets. The result is a new dataframe comprised of the specified columns\n# Access to multiple columns\ny = df[['Artist','Length','Genre']]\ny\n\nOne way to access unique elements is the iloc method, where you can access the 1st row and the 1st column\n# Access the value on the first row and the first column\ndf.iloc[0, 0]\n\nAccess the 2nd row and the 1st column as follows:\n# Access the value on the second row and the first column\ndf.iloc[1,0]\n\nAccess the 1st row and the 3rd column as follows:\n# Access the value on the first row and the third column\ndf.iloc[0,2]\n\n# Access the value on the second row and the third column\ndf.iloc[1,2]\n\nAccess the column using the name as well\n# Access the column using the name\ndf.loc[1, 'Artist']\n\nPerform slicing using both the index and the name of the column:\n# Slicing the dataframe\ndf.iloc[0:2, 0:3]\n\n# Slicing the dataframe using name\ndf.loc[0:2, 'Artist':'Released']",
      "metadata": {},
      "execution_count": null,
      "outputs": []
    }
  ]
}