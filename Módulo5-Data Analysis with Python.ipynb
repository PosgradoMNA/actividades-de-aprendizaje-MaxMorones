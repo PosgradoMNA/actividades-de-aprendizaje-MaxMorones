{
  "metadata": {
    "language_info": {
      "codemirror_mode": {
        "name": "python",
        "version": 3
      },
      "file_extension": ".py",
      "mimetype": "text/x-python",
      "name": "python",
      "nbconvert_exporter": "python",
      "pygments_lexer": "ipython3",
      "version": "3.8"
    },
    "kernelspec": {
      "name": "python",
      "display_name": "Python (Pyodide)",
      "language": "python"
    }
  },
  "nbformat_minor": 4,
  "nbformat": 4,
  "cells": [
    {
      "cell_type": "code",
      "source": "Módulo5-Notas\nCurso: Data Analysis with Python (IBM)\nMateria: Ciencia y analítica de datos\nMaximiliano Morones Gómez\nMatrícula: A01793815",
      "metadata": {},
      "execution_count": null,
      "outputs": []
    },
    {
      "cell_type": "code",
      "source": "\"Training and Testing\"\nAn important step in testing your model is to split your data into training and testing data.\n\nThe test_size parameter sets the proportion of data that is split into the testing set.\n\nSometimes you do not have sufficient testing data; as a result, you may want to perform cross-validation.",
      "metadata": {},
      "execution_count": null,
      "outputs": []
    },
    {
      "cell_type": "code",
      "source": "\"Overfitting, Underfitting and Model Selection\"\nOverfitting\nOverfitting occurs when the model fits the noise, but not the underlying process.\n\nThe term alpha is a hyperparameter.\n",
      "metadata": {},
      "execution_count": null,
      "outputs": []
    }
  ]
}