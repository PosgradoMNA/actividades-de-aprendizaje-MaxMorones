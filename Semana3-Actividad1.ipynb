{
  "metadata": {
    "language_info": {
      "codemirror_mode": {
        "name": "python",
        "version": 3
      },
      "file_extension": ".py",
      "mimetype": "text/x-python",
      "name": "python",
      "nbconvert_exporter": "python",
      "pygments_lexer": "ipython3",
      "version": "3.8"
    },
    "kernelspec": {
      "name": "python",
      "display_name": "Python (Pyodide)",
      "language": "python"
    }
  },
  "nbformat_minor": 4,
  "nbformat": 4,
  "cells": [
    {
      "cell_type": "code",
      "source": "Nombre de la entrega: Semana 3 Actividad 1\nNombre: Maximiliano Morones Gómez\nMatrícula: A01793815\nMateria: Ciencia y analítica de datos\nProfesor: Jobish Vallikavungal Devassia\nFecha: 02/10/2022\nFecha de entrega: 04/10/2022",
      "metadata": {},
      "execution_count": null,
      "outputs": []
    },
    {
      "cell_type": "code",
      "source": "\"Parte 1\"\n\n\"Fundamentos de bases de datos para ciencia de datos\"\nPara el caso del presente subtema, el cual se enfoca en los fundamentos relacionados con las bases de datos, y\ntomando como base a las lecturas realizadas, es posible comprender que una base de datos es aquella la cual se encuentra\nconformada por varias listas, a las cuales también se les conoce con el nombre de tablas, dichas listas o tablas sé\nencuentran organizadas por columnas, filas y celdas, sin pasar por alto que estas últimas contienen bits y \npiezas de datos para los registros en cada uno de los campos, y en el caso de las filas podemos\nencontrar que la primera fila siempre se encuentra reservada para los nombres de los campos.\nAsí como también es posible encontrarse con otros campos de vital importancia, como son los nombres de campo, el campo,\nlos registros, las celdas, los datos, el enfoque que tiene la base de datos, ventajas del enfoque, \ncostos, riesgos y aplicaciones.\n\"Almacenes de datos para ciencia de datos\"\nPara el caso del segundo subtema, el cual corresponde a los almacenes de datos, fue posible comprender que esto puede \nser visto como un depósito central de información, el cual nos permite realizar un análisis con la finalidad de\nllevar a cabo diferentes tipos de acciones, como la toma de decisiones más informadas y adecuadas.\nDe manera que los datos y el análisis se han convertido en una parte fundamental, para mantener la competitividad que\nexiste dentro del ambiente de las empresas, las cuales hacen uso de diversas herramientas como \ninformes y paneles, para poder llevar a cabo la extracción de información, monitoreo de desempeño y en \ncaso de ser requerido el respaldo de la toma de decisiones.\n",
      "metadata": {},
      "execution_count": null,
      "outputs": []
    },
    {
      "cell_type": "code",
      "source": "\"Parte 3\"\n\n\"Preparación de los datos\"\n¿Qué datos considero mas importantes? ¿Por qué?\nSe consideraron más importantes aquellas filas y columnas donde la ausencia de datos era pequeña, ya que en base\na la información leida, de esta manera podríamos evitar la mayor cantidad de errores al momento de realizar cambios\npara la obtención de los resultados finales.\n\n¿Se eliminaron o reemplazaron datos nulos? ¿Qué se hizo y por qué?\nDebido a que la base de datos contiene una considerable cantidad de información, se procedio a \nimplementar diversas soluciones en las cuales se eliminaban columnas o filas, las cuales contenian datos nulos y de\nesta manera evitar errores que pudieran presentarse en los resultados finales y futuros.\n\n¿Es necesario ordenar los datos para el análisis? Sí / No / ¿Por qué?\nEn caso de ser necesario se puede proceder a realizar un orden de los datos, con la finalidad de que sea más facil \nidentificarlos, si se encuentra trabajando con una medida o factor en especifico, pero en caso de no serlo se puede\ntrabajar con los datos en el orden en el que se proporcionan.\n\n¿Existen problemas de formato que deban solucionar antes del proceso de modelado? Sí / No / Por qué.\nPara el presente caso el problema de formato que podría aplicar, serían las secciones donde podemos encontrar los \ndatos nulos, ya que estos pueden generar poroblemas al momento de realizar el proceso de modelado.\n\n¿Qué ajustes se realizaron en el proceso de limpieza de datos (agregar, integrar, eliminar, modificar registros (filas), \ncambiar atributos (columnas)?\nSe realizo un ajuste de eliminacioón, ya que se considero que sería el más adecuado.                                   ",
      "metadata": {},
      "execution_count": null,
      "outputs": []
    }
  ]
}