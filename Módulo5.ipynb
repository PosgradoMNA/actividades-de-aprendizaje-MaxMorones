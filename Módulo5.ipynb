{
  "metadata": {
    "language_info": {
      "codemirror_mode": {
        "name": "python",
        "version": 3
      },
      "file_extension": ".py",
      "mimetype": "text/x-python",
      "name": "python",
      "nbconvert_exporter": "python",
      "pygments_lexer": "ipython3",
      "version": "3.8"
    },
    "kernelspec": {
      "name": "python",
      "display_name": "Python (Pyodide)",
      "language": "python"
    }
  },
  "nbformat_minor": 4,
  "nbformat": 4,
  "cells": [
    {
      "cell_type": "code",
      "source": "Módulo 5-Notas\nMaximiliano Morones Gómez-A01793815",
      "metadata": {},
      "execution_count": null,
      "outputs": []
    },
    {
      "cell_type": "code",
      "source": "\"What is Numpy?\"\nNumPy is a Python library used for working with arrays, linear algebra, fourier transform, and matrices.\nNumPy stands for Numerical Python and it is an open source project.\nNumPy is usually imported under the np alias.\n\n# import numpy library\nimport numpy as np \n\n# Create a numpy array\na = np.array([0, 1, 2, 3, 4])\na = array([0, 1, 2, 3, 4])\n\n\"Checking NumPy Version\"\nThe version string is stored under version attribute.\n# Check the Numpy version\nprint(np.__version__)",
      "metadata": {},
      "execution_count": null,
      "outputs": []
    },
    {
      "cell_type": "code",
      "source": "\"Type\"\nIf we check the type of the array we get numpy.ndarray:\n# Check the type of the array\ntype(a)\n\n# Check the type of the values stored in numpy array\na.dtype",
      "metadata": {},
      "execution_count": null,
      "outputs": []
    },
    {
      "cell_type": "code",
      "source": "\"Assign value\"\nWe can change the value of the array. Consider the array c:\n# Create numpy array\nc = np.array([20, 1, 2, 3, 4])\nc\n\n# Assign the first element to 100\nc[0] = 100\nc\n\n# Assign the 5th element to 0\nc[4] = 0",
      "metadata": {},
      "execution_count": null,
      "outputs": []
    },
    {
      "cell_type": "code",
      "source": "\"Slicing\"\nSlicing in python means taking the elements from the given index to another given index.\n# Slicing the numpy array\nd = c[1:4]\nd\n\nAssign the corresponding indexes to new values\n# Set the fourth element and fifth element to 300 and 400\nc[3:5] = 300, 400\nc\n\nDefine the steps in slicing\narr = np.array([1, 2, 3, 4, 5, 6, 7])\nprint(arr[1:5:2])\n\nIf we don't pass start its considered 0\nprint(arr[:4])\n\nIf we don't pass end it considers till the length of array.\nprint(arr[4:])\n\nIf we don't pass step its considered 1\nprint(arr[1:5:])",
      "metadata": {},
      "execution_count": null,
      "outputs": []
    },
    {
      "cell_type": "code",
      "source": "\"Assign Value with List\"\n# Create the index list\nselect = [0, 2, 3, 4]\nselect\n\n# Use List to select elements\nd = c[select]\nd\n\n# Assign the specified elements to new value\nc[select] = 100000\nc",
      "metadata": {},
      "execution_count": null,
      "outputs": []
    },
    {
      "cell_type": "code",
      "source": "\"Other Attributes\"\n# Create a numpy array\na = np.array([0, 1, 2, 3, 4])\na\n\nThe attribute size is the number of elements in the array:\n# Get the size of numpy array\na.size\n\nThe attribute ndim represents the number of array dimensions, or the rank of the array.\n# Get the number of dimensions of numpy array\na.ndim\n\nThe attribute shape is a tuple of integers indicating the size of the array in each dimension:\n# Get the shape/size of numpy array\na.shape",
      "metadata": {},
      "execution_count": null,
      "outputs": []
    },
    {
      "cell_type": "code",
      "source": "\"Numpy Statistical Functions\"\n# Create a numpy array\na = np.array([1, -1, 1, -1])\n\n# Get the mean of numpy array\nmean = a.mean()\nmean\n\n# Get the standard deviation of numpy array\nstandard_deviation=a.std()\nstandard_deviation\n\n# Create a numpy array\nb = np.array([-1, 2, 3, 4, 5])\nb\n\n# Get the biggest value in the numpy array\nmax_b = b.max()\nmax_b\n\n# Get the smallest value in the numpy array\nmin_b = b.min()\nmin_b",
      "metadata": {},
      "execution_count": null,
      "outputs": []
    },
    {
      "cell_type": "code",
      "source": "\"Numpy Array Operations\"\nArray Addition\nConsider the numpy array u:\nu = np.array([1, 0])\nu\nConsider the numpy array v:\nv = np.array([0, 1])\nv\nAdd the two arrays and assign it to z:\n# Numpy Array Addition\nz = np.add(u, v)\nz\n\nArray Subtraction\nConsider the numpy array a:\na = np.array([10, 20, 30])\na\nConsider the numpy array b:\nb = np.array([5, 10, 15])\nb\nWe can subtract the two arrays and assign it to c:\nc = np.subtract(a, b)\nprint(c)\n\nArray Multiplication\nConsider the vector numpy array y:\n\n# Create a numpy array\nx = np.array([1, 2])\nx\n# Create a numpy array\ny = np.array([2, 1])\ny\nWe can multiply every element in the array by 2:\n# Numpy Array Multiplication\nz = np.multiply(x, y)\nz\n\nArray Division\nConsider the vector numpy array a:\na = np.array([10, 20, 30])\na\nConsider the vector numpy array b:\nb = np.array([2, 10, 5])\nb\nWe can divide the two arrays and assign it to c:\nc = np.divide(a, b)\nc\n\nDot Product\nThe dot product of the two numpy arrays u and v is given by:\nX = np.array([1, 2])\nY = np.array([3, 2])\n# Calculate the dot product\nnp.dot(X, Y)\n#Elements of X\nprint(X[0])\nprint(X[1])\n#Elements of Y\nprint(Y[0])\nprint(Y[1])",
      "metadata": {},
      "execution_count": null,
      "outputs": []
    },
    {
      "cell_type": "code",
      "source": "\"Adding Constant to a Numpy Array\"\n# Create a constant to numpy array\nu = np.array([1, 2, 3, -1]) \nu\n\n# Add the constant to array\nu + 1",
      "metadata": {},
      "execution_count": null,
      "outputs": []
    },
    {
      "cell_type": "code",
      "source": "\"Mathematical Functions\"\n# The value of pi\nnp.pi\n\n# Create the numpy array in radians\nx = np.array([0, np.pi/2 , np.pi])\n\n# Calculate the sin of each elements\ny = np.sin(x)\ny",
      "metadata": {},
      "execution_count": null,
      "outputs": []
    },
    {
      "cell_type": "code",
      "source": "\"Linspace\"\nLinspace returns evenly spaced numbers over a specified interval.\nnumpy.linspace(start, stop, num = int value)\nstart : start of interval range\nstop : end of interval range\nnum : Number of samples to generate.\n\n# Makeup a numpy array within [-2, 2] and 5 elements\nnp.linspace(-2, 2, num=5)\n\n# Make a numpy array within [-2, 2] and 9 elements\nnp.linspace(-2, 2, num=9)\n\n# Make a numpy array within [0, 2π] and 100 elements \nx = np.linspace(0, 2*np.pi, num=100)\n\n# Calculate the sine of x list\ny = np.sin(x)\n\n# Plot the result\nplt.plot(x, y)",
      "metadata": {},
      "execution_count": null,
      "outputs": []
    },
    {
      "cell_type": "code",
      "source": "\"Iterating 1-D Arrays\"\nIterating means going through elements one by one.\nIf we iterate on a 1-D array it will go through each element one by one.\nIf we execute the numpy array, we get in the array format\narr1 = np.array([1, 2, 3])\nprint(arr1)\nBut if you want to result in the form of the list, then you can use for loop:\nfor x in arr1:\nprint(x)",
      "metadata": {},
      "execution_count": null,
      "outputs": []
    },
    {
      "cell_type": "code",
      "source": "\"Create a 2D Numpy Array\"\n# Create a list\na = [[11, 12, 13], [21, 22, 23], [31, 32, 33]]\na\n\n# Convert list to Numpy Array\n# Every element is the same type\nA = np.array(a)\nA\n\nUse the attribute ndim to obtain the number of axes or dimensions, referred to as the rank.\n# Show the numpy array dimensions\nA.ndim\n\nAttribute shape returns a tuple corresponding to the size or number of each dimension.\n# Show the numpy array shape\nA.shape\n\nThe total number of elements in the array is given by the attribute size.\n# Show the numpy array size\nA.size",
      "metadata": {},
      "execution_count": null,
      "outputs": []
    },
    {
      "cell_type": "code",
      "source": "\"Accessing different elements of a Numpy Array\"\n# Access the element on the second row and third column\nA[1, 2]\n\n# Access the element on the second row and third column\nA[1][2]\n\n# Access the element on the first row and first column\nA[0][0]",
      "metadata": {},
      "execution_count": null,
      "outputs": []
    },
    {
      "cell_type": "code",
      "source": "\"Basic Operations\"\n# Create a numpy array X\nX = np.array([[1, 0], [0, 1]]) \nX\n\n# Create a numpy array Y\nY = np.array([[2, 1], [1, 2]]) \nY\n\nAdd the numpy arrays.\n# Add X and Y\nZ = X + Y\nZ",
      "metadata": {},
      "execution_count": null,
      "outputs": []
    }
  ]
}