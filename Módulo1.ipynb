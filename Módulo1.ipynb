{
  "metadata": {
    "language_info": {
      "codemirror_mode": {
        "name": "python",
        "version": 3
      },
      "file_extension": ".py",
      "mimetype": "text/x-python",
      "name": "python",
      "nbconvert_exporter": "python",
      "pygments_lexer": "ipython3",
      "version": "3.8"
    },
    "kernelspec": {
      "name": "python",
      "display_name": "Python (Pyodide)",
      "language": "python"
    }
  },
  "nbformat_minor": 4,
  "nbformat": 4,
  "cells": [
    {
      "cell_type": "code",
      "source": "Módulo 1-Notas\nMaximiliano Morones Gómez-A01793815",
      "metadata": {},
      "execution_count": null,
      "outputs": []
    },
    {
      "cell_type": "code",
      "source": "\"Check the Python Version\"\nimport sys\nprint(sys.version)\n3.10.2 (main, Apr  9 2022, 20:52:01)",
      "metadata": {},
      "execution_count": null,
      "outputs": []
    },
    {
      "cell_type": "code",
      "source": "\"Writing comments in Python\"\nTo write comments in Python, use the number symbol # before writing your comment. When you run your code, Python will ignore everything past the # on a given line.\n# Practice on writing comments\nprint('Hello, Python!') # This line prints a string\n# print('Hi')",
      "metadata": {},
      "execution_count": null,
      "outputs": []
    },
    {
      "cell_type": "code",
      "source": "\"Errors in Python\"\n It is important to read error messages carefully to really understand where you made a mistake and how you may go about correcting it.\n# Print string as error message\nfrint(\"Hello, Python!\")\nThe error message tells you:\n1.where the error occurred (more useful in large notebook cells or scripts), and\n2.what kind of error it was (NameError)\nYou'll notice that if we make a different type of mistake, by forgetting to close the string, we'll obtain a different error.\n",
      "metadata": {},
      "execution_count": null,
      "outputs": []
    },
    {
      "cell_type": "code",
      "source": "\"Types of objects in Python\"\nThere are many different types of objects in Python. Common object types: strings, integers and floats.\n# Integer\n11\n\n# Float\n2.14\n\n# String\n\"Hello, Python 101!\"\n\nYou can get Python to tell you the type of an expression by using the built-in type() function. \nYou'll notice that Python refers to integers as int, floats as float, and character strings as str.\n# Type of 12\ntype(12)\n\n# Type of 2.14\ntype(2.14)\n\n# Type of \"Hello, Python 101!\"\ntype(\"Hello, Python 101!\")\n",
      "metadata": {},
      "execution_count": null,
      "outputs": []
    },
    {
      "cell_type": "code",
      "source": "\"Integers\"\nIntegers can be negative or positive numbers:\n# Print the type of -1\ntype(-1)\n\n# Print the type of 4\ntype(4)\n\n# Print the type of 0\ntype(0)",
      "metadata": {},
      "execution_count": null,
      "outputs": []
    },
    {
      "cell_type": "code",
      "source": "\"Floats\"\nFloats represent real numbers; they are a superset of integer numbers but also include \"numbers with decimals\".\n# Print the type of 1.0\ntype(1.0) # Notice that 1 is an int, and 1.0 is a float\n\n# Print the type of 0.5\ntype(0.5)\n\nsys.float_info. This will also tell you what's the largest and smallest number that can be represented with them.\n# System settings about float type\nsys.float_info\n",
      "metadata": {},
      "execution_count": null,
      "outputs": []
    },
    {
      "cell_type": "code",
      "source": "\"Converting from one object type to a different object type\"\n Change the type of the object in Python; this is called typecasting. \n For example, you can convert an integer into a float (e.g. 2 to 2.0).\n# Verify that this is an integer\ntype(2)\n\n\"Converting integers to floats\"\n# Convert 2 to a float\nfloat(2)\n\n# Convert integer 2 to a float and check its type\ntype(float(2))\n\n\"Converting from strings to integers or floats\"\n# Convert a string into an integer\nint('1')\n\n# Convert a string into an integer with error\nint('1 or 2 people')\n\n# Convert the string \"1.2\" into a float\nfloat('1.2')\n\n\"Converting numbers to strings\"\n# Convert an integer to a string\nstr(1)\n\n# Convert a float to a string\nstr(1.2)\n",
      "metadata": {},
      "execution_count": null,
      "outputs": []
    },
    {
      "cell_type": "code",
      "source": "\"Boolean data type\"\nBoolean is another important type in Python. An object of type Boolean can take on one of two values: True or False:\n# Value true\nTrue\n\n# Value false\nFalse\n\nWhen you ask Python to display the type of a boolean object it will show bool which stands for boolean:\n# Type of True\ntype(True)\n\n# Type of False\ntype(False)\n\nWe can cast boolean objects to other data types. If we cast a boolean with a value of True to an integer or float\nwe will get a one. If we cast a boolean with a value of False to an integer or float we will get a zero. \nSimilarly, if we cast a 1 to a Boolean, you get a True. And if we cast a 0 to a Boolean we will get a False.\n# Convert True to int\nint(True)\n\n# Convert 1 to boolean\nbool(1)\n\n# Convert 0 to boolean\nbool(0)\n\n# Convert True to float\nfloat(True)",
      "metadata": {},
      "execution_count": null,
      "outputs": []
    },
    {
      "cell_type": "code",
      "source": "\"Expression and Variables\"\n\"Expressions\"\nExpressions in Python can include operations among compatible types (e.g., integers and floats). \nFor example, basic arithmetic operations like adding multiple numbers:\n# Addition operation expression\n43 + 60 + 16 + 41\n# Subtraction operation expression\n50 - 60\n# Multiplication operation expression\n5 * 5\n# Division operation expression\n25 / 5\n# Integer division operation expression\n25 // 5\n\n\"Variables\"\nJust like with most programming languages, we can store values in variables, so we can use them later on.\n# Store value into variable\nx = 43 + 60 + 16 + 41\n# Print out the value in variable\nx\n# Use another variable to store the result of the operation between variable and value\ny = x / 60\ny\n# Overwrite variable with new value\nx = x / 60\nx\n# Name the variables meaningfully\ntotal_min = 43 + 42 + 57 # Total length of albums in minutes\ntotal_min",
      "metadata": {},
      "execution_count": null,
      "outputs": []
    },
    {
      "cell_type": "code",
      "source": "\"Strings\"\n# Use quotation marks for defining string\n\"Michael Jackson\"\n\n# Use single quotation marks for defining string\n'Michael Jackson'\n\n# Digitals and spaces in string\n'1 2 3 4 5 6 '\n\n# Special characters in string\n'@#2_#]&*^%$'\n\n# Print the string\nprint(\"hello!\")\n\n# Assign string to variable\nname = \"Michael Jackson\"\nname",
      "metadata": {},
      "execution_count": null,
      "outputs": []
    },
    {
      "cell_type": "code",
      "source": "\"Indexing\"\n# Print the first element in the string\nprint(name[0])\n\n# Print the element on index 6 in the string\nprint(name[6])\n\n# Print the element on the 13th index in the string\nprint(name[13])\n\n\"Negative Indexing\"\nNegative index can help us to count the element from the end of the string.\n\n# Print the last element in the string\nprint(name[-1])\n\n# Print the first element in the string\nprint(name[-15])\n\n# Find the length of string\nlen(\"Michael Jackson\")",
      "metadata": {},
      "execution_count": null,
      "outputs": []
    },
    {
      "cell_type": "code",
      "source": "\"Slicing\"\n# Take the slice on variable name with only index 0 to index 3\nname[0:4]",
      "metadata": {},
      "execution_count": null,
      "outputs": []
    },
    {
      "cell_type": "code",
      "source": "\"Stride\"\n# Get every second element. The elments on index 1, 3, 5 ...\nname[::2]\n\n# Get every second element in the range from index 0 to index 4\nname[0:5:2]",
      "metadata": {},
      "execution_count": null,
      "outputs": []
    },
    {
      "cell_type": "code",
      "source": "\"Concatenate Strings\"\nWe can concatenate or combine strings by using the addition symbols, and the result\nis a new string that is a combination of both:\n# Concatenate two strings\nstatement = name + \"is the best\"\nstatement\n\n# Print the string for 3 times\n3 * \"Michael Jackson\"\n\n# Concatenate strings\nname = \"Michael Jackson\"\nname = name + \" is the best\"\nname",
      "metadata": {},
      "execution_count": null,
      "outputs": []
    },
    {
      "cell_type": "code",
      "source": "\"Escape Sequences\"\n Escape sequences represent strings that may be difficult to input. \n\n# New line escape sequence\nprint(\" Michael Jackson \\n is the best\" )\n\n# Tab escape sequence\nprint(\" Michael Jackson \\t is the best\" )\n\n# Include back slash in string\nprint(\" Michael Jackson \\\\ is the best\" )\n\n# r will tell python that string will be display as raw string\nprint(r\" Michael Jackson \\ is the best\" )",
      "metadata": {},
      "execution_count": null,
      "outputs": []
    },
    {
      "cell_type": "code",
      "source": "\"String Operations\"\nMethod upper; this method converts lower case characters to upper case characters:\n# Convert all the characters in string to upper case\na = \"Thriller is the sixth studio album\"\nprint(\"before upper:\", a)\nb = a.upper()\nprint(\"After upper:\", b)\n\nMethod replace replaces a segment of the string, i.e. a substring with a new string.\n# Replace the old substring with the new target substring is the segment has been found in the string\na = \"Michael Jackson is the best\"\nb = a.replace('Michael', 'Janet')\nb\n\nMethod find finds a sub-string.\n# Find the substring in the string. Only the index of the first elment of substring in string will be the output\nname = \"Michael Jackson\"\nname.find('el')\n\n# Find the substring in the string.\nname.find('Jack')",
      "metadata": {},
      "execution_count": null,
      "outputs": []
    },
    {
      "cell_type": "code",
      "source": "Review Question 1\nWhat is the result of the following operation in Python:\n3 + 2 * 2\n7\n\nIn Python, if you executed name = 'Lizz', what would be the output of print(name[0:2])?\nLi\n\nIn Python, if you executed var = '01234567', what would be the result of print(var[::2])?\n0246\n\nIn Python, what is the result of the following operation '1'+'2'?\n'12'\n\nGiven myvar = 'hello', how would you convert myvar into uppercase?\nmyvar.upper()",
      "metadata": {},
      "execution_count": null,
      "outputs": []
    }
  ]
}