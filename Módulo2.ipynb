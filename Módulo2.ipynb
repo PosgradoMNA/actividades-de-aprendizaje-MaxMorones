{
  "metadata": {
    "language_info": {
      "codemirror_mode": {
        "name": "python",
        "version": 3
      },
      "file_extension": ".py",
      "mimetype": "text/x-python",
      "name": "python",
      "nbconvert_exporter": "python",
      "pygments_lexer": "ipython3",
      "version": "3.8"
    },
    "kernelspec": {
      "name": "python",
      "display_name": "Python (Pyodide)",
      "language": "python"
    }
  },
  "nbformat_minor": 4,
  "nbformat": 4,
  "cells": [
    {
      "cell_type": "code",
      "source": "Módulo 2-Notas\nMaximiliano Morones Gómez-A01793815",
      "metadata": {},
      "execution_count": null,
      "outputs": []
    },
    {
      "cell_type": "code",
      "source": "\"Tuples\"\nIn Python, there are different data types: string, integer, and float. These data types can all be contained in a tuple\n# Create your first tuple\ntuple1 = (\"disco\",10,1.2 )\n\n# Print the type of the tuple you created\ntype(tuple1)",
      "metadata": {},
      "execution_count": null,
      "outputs": []
    },
    {
      "cell_type": "code",
      "source": "\"Indexing\"\n# Print the variable on each index\nprint(tuple1[0])\nprint(tuple1[1])\nprint(tuple1[2])\n\n# Print the type of value on each index\nprint(type(tuple1[0]))\nprint(type(tuple1[1]))\nprint(type(tuple1[2]))\n\n# Use negative index to get the value of the last element\ntuple1[-1]\n\n# Use negative index to get the value of the second last element\ntuple1[-2]\n\n# Use negative index to get the value of the third last element\ntuple1[-3]",
      "metadata": {},
      "execution_count": null,
      "outputs": []
    },
    {
      "cell_type": "code",
      "source": "\"Concatenate Tuples\"\nWe can concatenate or combine tuples by using the + sign:\n\n# Concatenate two tuples\ntuple2 = tuple1 + (\"hard rock\", 10)\ntuple2",
      "metadata": {},
      "execution_count": null,
      "outputs": []
    },
    {
      "cell_type": "code",
      "source": "\"Slicing\"\nWe can slice tuples, obtaining new tuples with the corresponding elements:\n\n# Slice from index 0 to index 2\ntuple2[0:3]\n\n# Slice from index 3 to index 4\ntuple2[3:5]\n\nWe can obtain the length of a tuple using the length command:\n# Get the length of tuple\nlen(tuple2)",
      "metadata": {},
      "execution_count": null,
      "outputs": []
    },
    {
      "cell_type": "code",
      "source": "\"Sorting\"\n# A sample tuple\nRatings = (0, 9, 6, 5, 10, 8, 9, 6, 2)\n\nWe can sort the values in a tuple and save it to a new tuple:\n# Sort the tuple\nRatingsSorted = sorted(Ratings)\nRatingsSorted",
      "metadata": {},
      "execution_count": null,
      "outputs": []
    },
    {
      "cell_type": "code",
      "source": "\"Nested Tuple\"\n# Create a nest tuple\nNestedT =(1, 2, (\"pop\", \"rock\") ,(3,4),(\"disco\",(1,2)))\n\nEach element in the tuple, including other tuples, can be obtained via an index\n# Print element on each index\nprint(\"Element 0 of Tuple: \", NestedT[0])\nprint(\"Element 1 of Tuple: \", NestedT[1])\nprint(\"Element 2 of Tuple: \", NestedT[2])\nprint(\"Element 3 of Tuple: \", NestedT[3])\nprint(\"Element 4 of Tuple: \", NestedT[4])\n\nWe can access the nested tuples:\n# Print element on each index, including nest indexes\nprint(\"Element 2, 0 of Tuple: \",   NestedT[2][0])\nprint(\"Element 2, 1 of Tuple: \",   NestedT[2][1])\nprint(\"Element 3, 0 of Tuple: \",   NestedT[3][0])\nprint(\"Element 3, 1 of Tuple: \",   NestedT[3][1])\nprint(\"Element 4, 0 of Tuple: \",   NestedT[4][0])\nprint(\"Element 4, 1 of Tuple: \",   NestedT[4][1])\n\nWe can access strings in the second nested tuples using a third index:\n# Print the first element in the second nested tuples\nNestedT[2][1][0]\n\n# Print the second element in the second nested tuples\nNestedT[2][1][1]",
      "metadata": {},
      "execution_count": null,
      "outputs": []
    },
    {
      "cell_type": "code",
      "source": "\"Lists\"\nA list is a sequenced collection of different objects such as integers, strings, and even other lists as well.\n# Create a list\nL = [\"Michael Jackson\", 10.1, 1982]\nL\n\nWe can use negative and regular indexing with a list\n# Print the elements on each index\nprint('the same element using negative and positive indexing:\\n Postive:',L[0],\n'\\n Negative:' , L[-3]  )\nprint('the same element using negative and positive indexing:\\n Postive:',L[1],\n'\\n Negative:' , L[-2]  )\nprint('the same element using negative and positive indexing:\\n Postive:',L[2],\n'\\n Negative:' , L[-1]  )",
      "metadata": {},
      "execution_count": null,
      "outputs": []
    },
    {
      "cell_type": "code",
      "source": "\"List Content\"\nLists can contain strings, floats, and integers. We can nest other lists, and we \ncan also nest tuples and other data structures. \nThe same indexing conventions apply for nesting:\n# Sample List\n[\"Michael Jackson\", 10.1, 1982, [1, 2], (\"A\", 1)]",
      "metadata": {},
      "execution_count": null,
      "outputs": []
    },
    {
      "cell_type": "code",
      "source": "\"List Operations\"\nWe can also perform slicing in lists. For example, if we want the last two elements,\n# Sample List\nL = [\"Michael Jackson\", 10.1,1982,\"MJ\",1]\nL\n\n# List slicing\nL[3:5]\n\nWe can use the method extend to add new elements to the list:\n# Use extend to add elements to list\nL = [ \"Michael Jackson\", 10.2]\nL.extend(['pop', 10])\nL\n\nAnother similar method is append. If we apply append instead of extend, we add one element to the list:\n# Use append to add elements to list\nL = [ \"Michael Jackson\", 10.2]\nL.append(['pop', 10])\nL\n\nEach time we apply a method, the list changes. If we apply extend we add two new elements to the list. \nThe list L is then modified by adding two new elements:\n# Use extend to add elements to list\nL = [ \"Michael Jackson\", 10.2]\nL.extend(['pop', 10])\nL\n\nIf we append the list ['a','b'] we have one new element consisting of a nested list:\n# Use append to add elements to list\nL.append(['a','b'])\nL",
      "metadata": {},
      "execution_count": null,
      "outputs": []
    },
    {
      "cell_type": "code",
      "source": "\"Sets\"\nA set is a unique collection of objects in Python. You can denote a set with a pair of curly brackets {}.\n# Create a set\nset1 = {\"pop\", \"rock\", \"soul\", \"hard rock\", \"rock\", \"R&B\", \"rock\", \"disco\"}\nset1\n\nYou can also create a set from a list\n# Convert list to set\nalbum_list = [ \"Michael Jackson\", \"Thriller\", 1982, \"00:42:19\", \\\n              \"Pop, Rock, R&B\", 46.0, 65, \"30-Nov-82\", None, 10.0]\nalbum_set = set(album_list)             \nalbum_set\n\nNow let us create a set of genres:\n# Convert list to set\nmusic_genres = set([\"pop\", \"pop\", \"rock\", \"folk rock\", \"hard rock\", \"soul\", \\\n                    \"progressive rock\", \"soft rock\", \"R&B\", \"disco\"])\nmusic_genres",
      "metadata": {},
      "execution_count": null,
      "outputs": []
    },
    {
      "cell_type": "code",
      "source": "\"Set Operations\"\nCan be used to change the set.\n# Sample set\nA = set([\"Thriller\", \"Back in Black\", \"AC/DC\"])\nA\n\nAdd the same element twice, nothing will happen as there can be no duplicates in a set:\n# Try to add duplicate element to the set\nA.add(\"NSYNC\")\nA\n\nRemove an item from a set using the remove method:\n# Remove the element from set\nA.remove(\"NSYNC\")\nA\n\nVerify if an element is in the set using the in command:\n# Verify if the element is in the set\n\"AC/DC\" in A",
      "metadata": {},
      "execution_count": null,
      "outputs": []
    },
    {
      "cell_type": "code",
      "source": "\"Sets Logic Operations\"\nWith sets can check the difference between sets, as well as the symmetric difference, intersection, and union:\n\n# Sample Sets\nalbum_set1 = set([\"Thriller\", 'AC/DC', 'Back in Black'])\nalbum_set2 = set([ \"AC/DC\", \"Back in Black\", \"The Dark Side of the Moon\"])\n\n# Print two sets\nalbum_set1, album_set2\n\nFind the intersect of two sets as follow using &:\n# Find the intersections\nintersection = album_set1 & album_set2\nintersection\n\nFind all the elements that are only contained in album_set1 using the difference method:\n# Find the difference in set1 but not set2\nalbum_set1.difference(album_set2\n\n# Find the union of two sets\nalbum_set1.union(album_set2)",
      "metadata": {},
      "execution_count": null,
      "outputs": []
    },
    {
      "cell_type": "code",
      "source": "\"Dictionaries\"\nA dictionary consists of keys and values. It is helpful to compare a dictionary to a list.\n# Create the dictionary\nDict = {\"key1\": 1, \"key2\": \"2\", \"key3\": [3, 3, 3], \"key4\": (4, 4, 4), ('key5'): 5, (0, 1): 6}\nDict\n\nThe keys can be strings:\n# Access to the value by the key\nDict[\"key1\"]\n\n# Access to the value by the key\nDict[(0, 1)]\n\nEach key is separated from its value by a colon \":\". Commas separate the items, and the whole \ndictionary is enclosed in curly braces. \nAn empty dictionary without any items is written with just two curly braces, like this \"{}\".\n# Create a sample dictionary\n\nrelease_year_dict = {\"Thriller\": \"1982\", \"Back in Black\": \"1980\", \\\n                    \"The Dark Side of the Moon\": \"1973\", \"The Bodyguard\": \"1992\", \\\n                    \"Bat Out of Hell\": \"1977\", \"Their Greatest Hits (1971-1975)\": \"1976\", \\\n                    \"Saturday Night Fever\": \"1977\", \"Rumours\": \"1977\"}\nrelease_year_dict",
      "metadata": {},
      "execution_count": null,
      "outputs": []
    },
    {
      "cell_type": "code",
      "source": "\"Keys\"\nRetrieve the values based on the names:\n# Get value by keys\nrelease_year_dict['Thriller']\n\nRetrieve the keys of the dictionary using the method keys():\n# Get all the keys in dictionary\nrelease_year_dict.keys()\n\nRetrieve the values using the method values():\n# Get all the values in dictionary\nrelease_year_dict.values()\n\nAdd an entry:\n# Append value with key into dictionary\nrelease_year_dict['Graduation'] = '2007'\nrelease_year_dict\n\nDelete an entry:\n# Delete entries by key\ndel(release_year_dict['Thriller'])\ndel(release_year_dict['Graduation'])\nrelease_year_dict\n\nVerify if an element is in the dictionary:\n# Verify the key is in the dictionary\n'The Bodyguard' in release_year_dict",
      "metadata": {},
      "execution_count": null,
      "outputs": []
    },
    {
      "cell_type": "code",
      "source": "Review Question 2\nCuál es la sintaxis utilizada para obtener el primer elemento de la tupla:\nA = ('a', 'b', 'c')\nun[0]\n\nDespués de aplicar el siguiente método, L.append(['a','b']), la siguiente lista solo tendrá un elemento más.\nVerdadero\n\n¿Cuántos elementos duplicados puedes tener en un conjunto?\nSolo puede tener un elemento único en un conjunto\n\nConsidere el siguiente diccionario de Python:\nDict={\"A\":1,\"B\":\"2\",\"C\":[3,3,3],\"D\":(4,4,4),'E':5,'F':6}\n¿Cuál es el resultado de la siguiente operación: Dict[\"D\"]?\n(4, 4, 4)\n\n¿Cuál es una diferencia importante entre listas y tuplas?\nLas listas son mutables, las tuplas no.",
      "metadata": {},
      "execution_count": null,
      "outputs": []
    }
  ]
}