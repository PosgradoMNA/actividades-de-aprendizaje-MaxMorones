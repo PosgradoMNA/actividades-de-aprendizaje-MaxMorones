{
  "metadata": {
    "language_info": {
      "codemirror_mode": {
        "name": "python",
        "version": 3
      },
      "file_extension": ".py",
      "mimetype": "text/x-python",
      "name": "python",
      "nbconvert_exporter": "python",
      "pygments_lexer": "ipython3",
      "version": "3.8"
    },
    "kernelspec": {
      "name": "python",
      "display_name": "Python (Pyodide)",
      "language": "python"
    }
  },
  "nbformat_minor": 4,
  "nbformat": 4,
  "cells": [
    {
      "cell_type": "code",
      "source": "Módulo 3-Notas\nMaximiliano Morones Gómez-A01793815",
      "metadata": {},
      "execution_count": null,
      "outputs": []
    },
    {
      "cell_type": "code",
      "source": "\"Conditions in Python\"\n\nCondition Statements\n\"Comparison Operators\"\nComparison operations compare some value or operand and based on a condition, produce a Boolean.\nequal: ==\nnot equal: !=\ngreater than: >\nless than: <\ngreater than or equal to: >=\nless than or equal to: <=\n\n# Condition Equal\na = 5\na == 6\n\n# Greater than Sign\ni = 6\ni > 5\n\n# Inequality Sign\ni = 2\ni != 6",
      "metadata": {},
      "execution_count": null,
      "outputs": []
    },
    {
      "cell_type": "code",
      "source": "\"Branching\"\nAllows us to run different statements for different inputs.\nt is helpful to think of an if statement as a locked room, if the statement is True we can enter the room\nand your program will run some predefined tasks, but if the statement is False the program will ignore the task.\nWe can use the condition statements learned before as the conditions that need to be checked in the if statement.\n\n# If statement example\nage = 19\n#age = 18\n\n#expression that can be true or false\nif age > 18:\n    \n    #within an indent, we have the expression that is run if the condition is true\n    print(\"you can enter\" )\n\n#The statements after the if statement will run regardless if the condition is true or false \nprint(\"move on\")\n\nThe else statement runs a block of code if none of the conditions are True before this else statement.\n# Else statement example\n\nage = 18\n# age = 19\n\nif age > 18:\n    print(\"you can enter\" )\nelse:\n    print(\"go see Meat Loaf\" )\n    \nprint(\"move on\")\n\nThe elif statement, short for else if, allows us to check additional conditions \nif the condition statements before it are False. If the condition for the elif statement \nis True, the alternate expressions will be run.\n# Elif statment example\nage = 18\n\nif age > 18:\n    print(\"you can enter\" )\nelif age == 18:\n    print(\"go see Pink Floyd\")\nelse:\n    print(\"go see Meat Loaf\" )\n    \nprint(\"move on\")\n\n# Condition statement example\nalbum_year = 1983\nalbum_year = 1970\n\nif album_year > 1980:\n    print(\"Album year is greater than 1980\")\n    \nprint('do something..')\n\n# Condition statement example\nalbum_year = 1983\n#album_year = 1970\n\nif album_year > 1980:\n    print(\"Album year is greater than 1980\")\nelse:\n    print(\"less than 1980\")\n\nprint('do something..')",
      "metadata": {},
      "execution_count": null,
      "outputs": []
    },
    {
      "cell_type": "code",
      "source": "\"Logical operators\"\nLogical operators allow you to combine or modify conditions.\nand\nor\nnot\n\nThe and statement is only True when both conditions are true. \nThe or statement is True if one condition, or both are True. \nThe not statement outputs the opposite truth value.",
      "metadata": {},
      "execution_count": null,
      "outputs": []
    },
    {
      "cell_type": "code",
      "source": "\"Loops\"\n\n\"Range\"\nThink of the range object as an ordered list.\n# Use the range\nrange(3)\n\n\"For Loop\"\nFor loop enables you to execute a code block multiple times.\n# For loop example\ndates = [1982,1980,1973]\nN = len(dates)\n\nfor i in range(N):\n    print(dates[i])\n    \n\"While Loop\"\nWhile loop exists as a tool for repeated execution based on a condition.\n# While Loop Example\ndates = [1982, 1980, 1973, 2000]\n\ni = 0\nyear = dates[0]\n\nwhile(year != 1973):    \n    print(year)\n    i = i + 1\n    year = dates[i]\n    \n\nprint(\"It took \", i ,\"repetitions to get out of loop.\")",
      "metadata": {},
      "execution_count": null,
      "outputs": []
    },
    {
      "cell_type": "code",
      "source": "\"Functions\"\nIs a reusable block of code which performs operations specified in the function. \nThey let you break down tasks and allow you to reuse your code in different programs.\n\nThere are two types of functions :\n\nPre-defined functions\nUser defined functions\n\nWhat is a Function?\nWe can define functions to provide the required functionality.\nFunctions blocks begin def followed by the function name and parentheses ().\nThere are input parameters or arguments that should be placed within these parentheses.\nYou can also define parameters inside these parentheses.\nThere is a body within every function that starts with a colon (:) and is indented.\nYou can also place documentation before the body.\nThe statement return exits a function, optionally passing back a value.\nAn example of a function that adds on to the parameter a prints and returns the output as b:\n    \n# First function example: Add 1 to a and store as b\ndef add(a):\n    \"\"\"\n    add 1 to a\n    \"\"\"\n    b = a + 1\n    print(a, \"if you add one\", b)\n    return(b)\n\nObtain help about a function:\n# Get a help on add function\nhelp(add)\n\nCall the function:\n# Call the function add()\nadd(1)\n\nCall the function with a new input we get a new result:\n# Call the function add()\nadd(2)\n\nCreate different functions.\n# Define a function for multiple two numbers\ndef Mult(a, b):\n    c = a * b\n    return(c)\n    print('This is not printed')\n    \nresult = Mult(12,2)\nprint(result)",
      "metadata": {},
      "execution_count": null,
      "outputs": []
    },
    {
      "cell_type": "code",
      "source": "\"Variables\"\nThe input to a function is called a formal parameter.\nA variable that is declared inside a function is called a local variable.\nA variable that is declared outside a function definition is a global variable, and \nits value is accessible and modifiable throughout the program.\n\n# Function Definition\ndef square(a):\n    \n    # Local variable b\n    b = 1\n    c = a * a + b\n    print(a, \"if you square + 1\", c) \n    return(c)\n\n# Initializes Global variable  \nx = 3\n# Makes function call and return function a y\ny = square(x)\ny",
      "metadata": {},
      "execution_count": null,
      "outputs": []
    },
    {
      "cell_type": "code",
      "source": "\"Pre-defined functions\"\nThe print() function:\n# Build-in function print()\nalbum_ratings = [10.0, 8.5, 9.5, 7.0, 7.0, 9.5, 9.0, 9.5] \nprint(album_ratings)\n\nThe sum() function adds all the elements in a list or tuple:\n# Use sum() to add every element in a list or tuple together\nsum(album_ratings)\n\nThe len() function returns the length of a list or tuple:\n# Show the length of the list or tuple\nlen(album_ratings)\n\n\"Using if/else Statements and Loops in Functions\"\nThe return() function is particularly useful if you have any IF statements in the function, when \nyou want your output to be dependent on some condition\n\n# Function example\ndef type_of_album(artist, album, year_released):\n    \n    print(artist, album, year_released)\n    if year_released > 1980:\n        return \"Modern\"\n    else:\n        return \"Oldie\"\n    \nx = type_of_album(\"Michael Jackson\", \"Thriller\", 1980)\nprint(x)\n\n\"Setting default argument values in your custom functions\"\n\n# Example for setting param with default value\ndef isGoodRating(rating=4): \n    if(rating < 7):\n        print(\"this album sucks it's rating is\",rating)\n        \n    else:\n        print(\"this album is good its rating is\",rating)\n\n# Test the value with default value and with input\nisGoodRating()\nisGoodRating(10)        \n",
      "metadata": {},
      "execution_count": null,
      "outputs": []
    },
    {
      "cell_type": "code",
      "source": "\"Global variables\"\n# Example of global variable\n\nartist = \"Michael Jackson\"\ndef printer1(artist):\n    internal_var1 = artist\n    print(artist, \"is an artist\")\n    \nprinter1(artist)\n# try runningthe following code\n#printer1(internal_var1) \n\n\"Scope of a Variable\"\nIs the part of that program where that variable is accessible.",
      "metadata": {},
      "execution_count": null,
      "outputs": []
    }
  ]
}